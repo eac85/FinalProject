{
 "cells": [
  {
   "cell_type": "code",
   "execution_count": 1,
   "metadata": {
    "collapsed": true
   },
   "outputs": [],
   "source": [
    "import pandas as pd\n",
    "df = pd.read_csv('mydata1.csv')\n",
    "from pandas import *"
   ]
  },
  {
   "cell_type": "code",
   "execution_count": 35,
   "metadata": {
    "collapsed": false
   },
   "outputs": [
    {
     "name": "stdout",
     "output_type": "stream",
     "text": [
      "[27.206999999999997, 14.517000000000001, 20.309999999999999, 19.241, 7.9654999999999996, 10.068999999999999]\n"
     ]
    }
   ],
   "source": [
    "law = list(df[\"Law\"])\n",
    "academia = list(df[\"Academia\"])\n",
    "psychology = list(df[\"Psychology\"])\n",
    "medicine = list(df[\"Medicine\"])\n",
    "engineer = list(df[\"Engineer\"])\n",
    "entertainment = list(df[\"Entertainment\"])\n",
    "finance = list(df[\"Finance\"])\n",
    "humanAffairs = list(df[\"Human Affairs\"])\n",
    "undecided =  list(df[\"Undecided\"])\n",
    "socialwork =  list(df[\"Social Work\"])\n",
    "proathlete =  list(df[\"Pro Athlete\"])\n",
    "tech =  list(df[\"Tech\"])\n",
    "\n",
    "\n",
    "\n",
    "\n",
    "print(law)"
   ]
  },
  {
   "cell_type": "code",
   "execution_count": 48,
   "metadata": {
    "collapsed": false
   },
   "outputs": [
    {
     "data": {
      "text/html": [
       "<iframe id=\"igraph\" scrolling=\"no\" style=\"border:none;\" seamless=\"seamless\" src=\"https://plot.ly/~eac85/119.embed\" height=\"525px\" width=\"100%\"></iframe>"
      ],
      "text/plain": [
       "<plotly.tools.PlotlyDisplay object>"
      ]
     },
     "execution_count": 48,
     "metadata": {},
     "output_type": "execute_result"
    }
   ],
   "source": [
    "import plotly.plotly as py\n",
    "import plotly.graph_objs as go\n",
    "\n",
    "\n",
    "fig = {\n",
    "    'data': [\n",
    "                {\n",
    "            'labels': ['Attractive','Sincere','Intelligent','Fun', 'Ambitious', 'Shared Interests'],\n",
    "            'values': [27.206999999999997, 14.517000000000001, 20.309999999999999, 19.241, 7.9654999999999996, 10.068999999999999],\n",
    "            'type': 'pie',\n",
    "            'marker': {'colors': ['#E53935', '#EF5350', '#BDC3C7', '#EF9A9A', '#FFAB91', '#F44336']},\n",
    "            'textinfo': \"label\",\n",
    "            'textposition': \"outside\",\n",
    "           \n",
    "                \n",
    "                }],\n",
    "    'layout': {'title': 'Lawyer',\n",
    "              'showlegend': False\n",
    "              } \n",
    "   \n",
    "}\n",
    "             \n",
    "       \n",
    "\n",
    "py.iplot(fig)"
   ]
  },
  {
   "cell_type": "code",
   "execution_count": 49,
   "metadata": {
    "collapsed": false
   },
   "outputs": [
    {
     "data": {
      "text/html": [
       "<iframe id=\"igraph\" scrolling=\"no\" style=\"border:none;\" seamless=\"seamless\" src=\"https://plot.ly/~eac85/121.embed\" height=\"525px\" width=\"100%\"></iframe>"
      ],
      "text/plain": [
       "<plotly.tools.PlotlyDisplay object>"
      ]
     },
     "execution_count": 49,
     "metadata": {},
     "output_type": "execute_result"
    }
   ],
   "source": [
    "\n",
    "fig = {\n",
    "    'data': [\n",
    "                {\n",
    "            'labels': ['Attractive','Sincere','Intelligent','Fun', 'Ambitious', 'Shared Interests'],\n",
    "            'values': [24.905000000000001, 7.8094999999999999, 23.048000000000002, 18.429000000000002, 8.7619000000000007, 8.6189999999999998],\n",
    "            'type': 'pie',\n",
    "            'marker': {'colors': ['#E53935', '#EF5350', '#BDC3C7', '#EF9A9A', '#FFAB91', '#F44336']},\n",
    "                    'textinfo': \"label\",\n",
    "            'textposition': \"outside\",\n",
    "           \n",
    "                \n",
    "                }],\n",
    "    'layout': {'title': 'Academia',\n",
    "              'showlegend': False} \n",
    "   \n",
    "}\n",
    "             \n",
    "       \n",
    "\n",
    "py.iplot(fig)"
   ]
  },
  {
   "cell_type": "code",
   "execution_count": 26,
   "metadata": {
    "collapsed": false
   },
   "outputs": [
    {
     "name": "stdout",
     "output_type": "stream",
     "text": [
      "[17.509, 16.518000000000001, 25.427, 18.317999999999998, 8.9179999999999993, 13.409000000000001]\n"
     ]
    }
   ],
   "source": [
    "print(entertainment)"
   ]
  },
  {
   "cell_type": "code",
   "execution_count": 50,
   "metadata": {
    "collapsed": false
   },
   "outputs": [
    {
     "data": {
      "text/html": [
       "<iframe id=\"igraph\" scrolling=\"no\" style=\"border:none;\" seamless=\"seamless\" src=\"https://plot.ly/~eac85/123.embed\" height=\"525px\" width=\"100%\"></iframe>"
      ],
      "text/plain": [
       "<plotly.tools.PlotlyDisplay object>"
      ]
     },
     "execution_count": 50,
     "metadata": {},
     "output_type": "execute_result"
    }
   ],
   "source": [
    "fig = {\n",
    "    'data': [\n",
    "                {\n",
    "            'labels': ['Attractive','Sincere','Intelligent','Fun', 'Ambitious', 'Shared Interests'],\n",
    "            'values': [15.667, 15.667, 29.0, 15.667, 14.0, 10.0],\n",
    "            'type': 'pie',\n",
    "            'marker': {'colors': ['#E53935', '#EF5350', '#BDC3C7', '#EF9A9A', '#FFAB91', '#F44336']},\n",
    "            'textinfo': \"label\",\n",
    "            'textposition': \"outside\",\n",
    "           \n",
    "                \n",
    "                }],\n",
    "    'layout': {'title': 'Psychology',\n",
    "              'showlegend': False} \n",
    "   \n",
    "}\n",
    "             \n",
    "py.iplot(fig)"
   ]
  },
  {
   "cell_type": "code",
   "execution_count": 51,
   "metadata": {
    "collapsed": false
   },
   "outputs": [
    {
     "data": {
      "text/html": [
       "<iframe id=\"igraph\" scrolling=\"no\" style=\"border:none;\" seamless=\"seamless\" src=\"https://plot.ly/~eac85/125.embed\" height=\"525px\" width=\"100%\"></iframe>"
      ],
      "text/plain": [
       "<plotly.tools.PlotlyDisplay object>"
      ]
     },
     "execution_count": 51,
     "metadata": {},
     "output_type": "execute_result"
    }
   ],
   "source": [
    "fig = {\n",
    "    'data': [\n",
    "                {\n",
    "            'labels': ['Attractive','Sincere','Intelligent','Fun', 'Ambitious', 'Shared Interests'],\n",
    "            'values': [30.833000000000002, 22.5, 20.833000000000002, 10.0, 7.0, 8.8330000000000002],\n",
    "            'type': 'pie',\n",
    "            'marker': {'colors': ['#E53935', '#EF5350', '#BDC3C7', '#EF9A9A', '#FFAB91', '#F44336']},\n",
    "            'textinfo': \"label\",\n",
    "            'textposition': \"outside\",\n",
    "           \n",
    "                \n",
    "                }],\n",
    "    'layout': {'title': 'Medicine',\n",
    "              'showlegend': False} \n",
    "   \n",
    "}\n",
    "             \n",
    "       \n",
    "\n",
    "py.iplot(fig)"
   ]
  },
  {
   "cell_type": "code",
   "execution_count": 52,
   "metadata": {
    "collapsed": false
   },
   "outputs": [
    {
     "data": {
      "text/html": [
       "<iframe id=\"igraph\" scrolling=\"no\" style=\"border:none;\" seamless=\"seamless\" src=\"https://plot.ly/~eac85/127.embed\" height=\"525px\" width=\"100%\"></iframe>"
      ],
      "text/plain": [
       "<plotly.tools.PlotlyDisplay object>"
      ]
     },
     "execution_count": 52,
     "metadata": {},
     "output_type": "execute_result"
    }
   ],
   "source": [
    "fig = {\n",
    "    'data': [\n",
    "                {\n",
    "            'labels': ['Attractive','Sincere','Intelligent','Fun', 'Ambitious', 'Shared Interests'],\n",
    "            'values': [17.509, 16.518000000000001, 25.427, 18.317999999999998, 8.9179999999999993, 13.409000000000001],\n",
    "            'type': 'pie',\n",
    "            'marker': {'colors': ['#E53935', '#EF5350', '#BDC3C7', '#EF9A9A', '#FFAB91', '#F44336']},\n",
    "            'textinfo': \"label\",\n",
    "            'textposition': \"outside\",\n",
    "           \n",
    "                \n",
    "                }],\n",
    "    'layout': {'title': 'Entertainment',\n",
    "              'showlegend': False} \n",
    "   \n",
    "}\n",
    "             \n",
    "       \n",
    "\n",
    "py.iplot(fig)"
   ]
  },
  {
   "cell_type": "code",
   "execution_count": 53,
   "metadata": {
    "collapsed": false
   },
   "outputs": [
    {
     "data": {
      "text/html": [
       "<iframe id=\"igraph\" scrolling=\"no\" style=\"border:none;\" seamless=\"seamless\" src=\"https://plot.ly/~eac85/129.embed\" height=\"525px\" width=\"100%\"></iframe>"
      ],
      "text/plain": [
       "<plotly.tools.PlotlyDisplay object>"
      ]
     },
     "execution_count": 53,
     "metadata": {},
     "output_type": "execute_result"
    }
   ],
   "source": [
    "fig = {\n",
    "    'data': [\n",
    "                {\n",
    "            'labels': ['Attractive','Sincere','Intelligent','Fun', 'Ambitious', 'Shared Interests'],\n",
    "            'values': [30.666999999999998, 14.504000000000001, 20.811999999999998, 18.317999999999998, 9.6196000000000002, 10.624000000000001]\n",
    ",\n",
    "            'type': 'pie',\n",
    "            'marker': {'colors': ['#E53935', '#EF5350', '#BDC3C7', '#EF9A9A', '#FFAB91', '#F44336']},\n",
    "            'textinfo': \"label\",\n",
    "            'textposition': \"outside\",\n",
    "           \n",
    "                \n",
    "                }],\n",
    "    'layout': {'title': 'Finance',\n",
    "              'showlegend': False} \n",
    "   \n",
    "}\n",
    "             \n",
    "       \n",
    "\n",
    "py.iplot(fig)"
   ]
  },
  {
   "cell_type": "code",
   "execution_count": 38,
   "metadata": {
    "collapsed": false
   },
   "outputs": [
    {
     "name": "stdout",
     "output_type": "stream",
     "text": [
      "[16.077000000000002, 18.077000000000002, 18.769000000000002, 18.462, 15.538, 13.077]\n"
     ]
    }
   ],
   "source": [
    "print(humanAffairs)"
   ]
  },
  {
   "cell_type": "code",
   "execution_count": 54,
   "metadata": {
    "collapsed": false
   },
   "outputs": [
    {
     "data": {
      "text/html": [
       "<iframe id=\"igraph\" scrolling=\"no\" style=\"border:none;\" seamless=\"seamless\" src=\"https://plot.ly/~eac85/131.embed\" height=\"525px\" width=\"100%\"></iframe>"
      ],
      "text/plain": [
       "<plotly.tools.PlotlyDisplay object>"
      ]
     },
     "execution_count": 54,
     "metadata": {},
     "output_type": "execute_result"
    }
   ],
   "source": [
    "fig = {\n",
    "    'data': [\n",
    "                {\n",
    "            'labels': ['Attractive','Sincere','Intelligent','Fun', 'Ambitious', 'Shared Interests'],\n",
    "            'values': [13.333, 20.0, 20.0, 18.332999999999998, 15.0, 13.333],\n",
    "            'type': 'pie',\n",
    "            'marker': {'colors': ['#E53935', '#EF5350', '#BDC3C7', '#EF9A9A', '#FFAB91', '#F44336']},\n",
    "            'textinfo': \"label\",\n",
    "            'textposition': \"outside\",\n",
    "           \n",
    "                \n",
    "                }],\n",
    "    'layout': {'title': 'Social Work',\n",
    "              'showlegend': False} \n",
    "   \n",
    "}\n",
    "             \n",
    "       \n",
    "\n",
    "py.iplot(fig)"
   ]
  },
  {
   "cell_type": "code",
   "execution_count": 42,
   "metadata": {
    "collapsed": false
   },
   "outputs": [
    {
     "data": {
      "text/html": [
       "<iframe id=\"igraph\" scrolling=\"no\" style=\"border:none;\" seamless=\"seamless\" src=\"https://plot.ly/~eac85/109.embed\" height=\"525px\" width=\"100%\"></iframe>"
      ],
      "text/plain": [
       "<plotly.tools.PlotlyDisplay object>"
      ]
     },
     "execution_count": 42,
     "metadata": {},
     "output_type": "execute_result"
    }
   ],
   "source": [
    "fig = {\n",
    "    'data': [\n",
    "                {\n",
    "            'labels': ['Attractive','Sincere','Intelligent','Fun', 'Ambitious', 'Shared Interests'],\n",
    "            'values': [23.856999999999999, 14.857000000000001, 23.285999999999998, 21.5, 11.833, 11.0],\n",
    "            'type': 'pie',\n",
    "            'marker': {'colors': ['#E53935', '#EF5350', '#BDC3C7', '#EF9A9A', '#FFAB91', '#F44336']}\n",
    "           \n",
    "                \n",
    "                }],\n",
    "    'layout': {'title': 'Undecided',\n",
    "              'showlegend': False} \n",
    "   \n",
    "}\n",
    "             \n",
    "       \n",
    "\n",
    "py.iplot(fig)"
   ]
  },
  {
   "cell_type": "code",
   "execution_count": 55,
   "metadata": {
    "collapsed": false
   },
   "outputs": [
    {
     "data": {
      "text/html": [
       "<iframe id=\"igraph\" scrolling=\"no\" style=\"border:none;\" seamless=\"seamless\" src=\"https://plot.ly/~eac85/133.embed\" height=\"525px\" width=\"100%\"></iframe>"
      ],
      "text/plain": [
       "<plotly.tools.PlotlyDisplay object>"
      ]
     },
     "execution_count": 55,
     "metadata": {},
     "output_type": "execute_result"
    }
   ],
   "source": [
    "fig = {\n",
    "    'data': [\n",
    "                {\n",
    "            'labels': ['Attractive','Sincere','Intelligent','Fun', 'Ambitious', 'Shared Interests'],\n",
    "            'values': [16.077000000000002, 18.077000000000002, 18.769000000000002, 18.462, 15.538, 13.077],\n",
    "            'type': 'pie',\n",
    "            'marker': {'colors': ['#E53935', '#EF5350', '#BDC3C7', '#EF9A9A', '#FFAB91', '#F44336']},\n",
    "            'textinfo': \"label\",\n",
    "            'textposition': \"outside\",\n",
    "           \n",
    "                \n",
    "                }],\n",
    "    'layout': {'title': 'Human Affairs',\n",
    "              'showlegend': False} \n",
    "   \n",
    "}\n",
    "             \n",
    "       \n",
    "\n",
    "py.iplot(fig)"
   ]
  },
  {
   "cell_type": "code",
   "execution_count": 56,
   "metadata": {
    "collapsed": false
   },
   "outputs": [
    {
     "data": {
      "text/html": [
       "<iframe id=\"igraph\" scrolling=\"no\" style=\"border:none;\" seamless=\"seamless\" src=\"https://plot.ly/~eac85/135.embed\" height=\"525px\" width=\"100%\"></iframe>"
      ],
      "text/plain": [
       "<plotly.tools.PlotlyDisplay object>"
      ]
     },
     "execution_count": 56,
     "metadata": {},
     "output_type": "execute_result"
    }
   ],
   "source": [
    "fig = {\n",
    "    'data': [\n",
    "                {\n",
    "            'labels': ['Attractive','Sincere','Intelligent','Fun', 'Ambitious', 'Shared Interests'],\n",
    "            'values': [60, 15, 0, 15, 0, 10],\n",
    "            'type': 'pie',\n",
    "            'marker': {'colors': ['#E53935', '#EF5350', '#BDC3C7', '#EF9A9A', '#FFAB91', '#F44336']},\n",
    "            'textinfo': \"label\",\n",
    "            'textposition': \"outside\",\n",
    "           \n",
    "                \n",
    "                }],\n",
    "    'layout': {'title': 'Pro Athlete',\n",
    "              'showlegend': False} \n",
    "   \n",
    "}\n",
    "             \n",
    "       \n",
    "\n",
    "py.iplot(fig)"
   ]
  },
  {
   "cell_type": "code",
   "execution_count": 58,
   "metadata": {
    "collapsed": false
   },
   "outputs": [
    {
     "ename": "PlotlyRequestError",
     "evalue": "Hey there! You've hit one of our API request limits. \n\nTo get unlimited API calls(10,000/day), please upgrade to a paid plan. \n\nUPGRADE HERE: https://goo.gl/i7glmM \n\nThanks for using Plotly! Happy Plotting!",
     "output_type": "error",
     "traceback": [
      "\u001b[0;31m---------------------------------------------------------------------------\u001b[0m",
      "\u001b[0;31mPlotlyRequestError\u001b[0m                        Traceback (most recent call last)",
      "\u001b[0;32m<ipython-input-58-c8876f4ae2a2>\u001b[0m in \u001b[0;36m<module>\u001b[0;34m()\u001b[0m\n\u001b[1;32m     18\u001b[0m \u001b[1;33m\u001b[0m\u001b[0m\n\u001b[1;32m     19\u001b[0m \u001b[1;33m\u001b[0m\u001b[0m\n\u001b[0;32m---> 20\u001b[0;31m \u001b[0mpy\u001b[0m\u001b[1;33m.\u001b[0m\u001b[0miplot\u001b[0m\u001b[1;33m(\u001b[0m\u001b[0mfig\u001b[0m\u001b[1;33m)\u001b[0m\u001b[1;33m\u001b[0m\u001b[0m\n\u001b[0m",
      "\u001b[0;32mC:\\Users\\echew\\AppData\\Local\\Continuum\\Anaconda3\\lib\\site-packages\\plotly\\plotly\\plotly.py\u001b[0m in \u001b[0;36miplot\u001b[0;34m(figure_or_data, **plot_options)\u001b[0m\n\u001b[1;32m    132\u001b[0m     \u001b[1;32mif\u001b[0m \u001b[1;34m'auto_open'\u001b[0m \u001b[1;32mnot\u001b[0m \u001b[1;32min\u001b[0m \u001b[0mplot_options\u001b[0m\u001b[1;33m:\u001b[0m\u001b[1;33m\u001b[0m\u001b[0m\n\u001b[1;32m    133\u001b[0m         \u001b[0mplot_options\u001b[0m\u001b[1;33m[\u001b[0m\u001b[1;34m'auto_open'\u001b[0m\u001b[1;33m]\u001b[0m \u001b[1;33m=\u001b[0m \u001b[1;32mFalse\u001b[0m\u001b[1;33m\u001b[0m\u001b[0m\n\u001b[0;32m--> 134\u001b[0;31m     \u001b[0murl\u001b[0m \u001b[1;33m=\u001b[0m \u001b[0mplot\u001b[0m\u001b[1;33m(\u001b[0m\u001b[0mfigure_or_data\u001b[0m\u001b[1;33m,\u001b[0m \u001b[1;33m**\u001b[0m\u001b[0mplot_options\u001b[0m\u001b[1;33m)\u001b[0m\u001b[1;33m\u001b[0m\u001b[0m\n\u001b[0m\u001b[1;32m    135\u001b[0m \u001b[1;33m\u001b[0m\u001b[0m\n\u001b[1;32m    136\u001b[0m     \u001b[1;32mif\u001b[0m \u001b[0misinstance\u001b[0m\u001b[1;33m(\u001b[0m\u001b[0mfigure_or_data\u001b[0m\u001b[1;33m,\u001b[0m \u001b[0mdict\u001b[0m\u001b[1;33m)\u001b[0m\u001b[1;33m:\u001b[0m\u001b[1;33m\u001b[0m\u001b[0m\n",
      "\u001b[0;32mC:\\Users\\echew\\AppData\\Local\\Continuum\\Anaconda3\\lib\\site-packages\\plotly\\plotly\\plotly.py\u001b[0m in \u001b[0;36mplot\u001b[0;34m(figure_or_data, validate, **plot_options)\u001b[0m\n\u001b[1;32m    225\u001b[0m     \u001b[0mdata\u001b[0m \u001b[1;33m=\u001b[0m \u001b[0mfig\u001b[0m\u001b[1;33m.\u001b[0m\u001b[0mget\u001b[0m\u001b[1;33m(\u001b[0m\u001b[1;34m'data'\u001b[0m\u001b[1;33m,\u001b[0m \u001b[1;33m[\u001b[0m\u001b[1;33m]\u001b[0m\u001b[1;33m)\u001b[0m\u001b[1;33m\u001b[0m\u001b[0m\n\u001b[1;32m    226\u001b[0m     \u001b[0mplot_options\u001b[0m\u001b[1;33m[\u001b[0m\u001b[1;34m'layout'\u001b[0m\u001b[1;33m]\u001b[0m \u001b[1;33m=\u001b[0m \u001b[0mfig\u001b[0m\u001b[1;33m.\u001b[0m\u001b[0mget\u001b[0m\u001b[1;33m(\u001b[0m\u001b[1;34m'layout'\u001b[0m\u001b[1;33m,\u001b[0m \u001b[1;33m{\u001b[0m\u001b[1;33m}\u001b[0m\u001b[1;33m)\u001b[0m\u001b[1;33m\u001b[0m\u001b[0m\n\u001b[0;32m--> 227\u001b[0;31m     \u001b[0mresponse\u001b[0m \u001b[1;33m=\u001b[0m \u001b[0mv1\u001b[0m\u001b[1;33m.\u001b[0m\u001b[0mclientresp\u001b[0m\u001b[1;33m(\u001b[0m\u001b[0mdata\u001b[0m\u001b[1;33m,\u001b[0m \u001b[1;33m**\u001b[0m\u001b[0mplot_options\u001b[0m\u001b[1;33m)\u001b[0m\u001b[1;33m\u001b[0m\u001b[0m\n\u001b[0m\u001b[1;32m    228\u001b[0m \u001b[1;33m\u001b[0m\u001b[0m\n\u001b[1;32m    229\u001b[0m     \u001b[1;31m# Check if the url needs a secret key\u001b[0m\u001b[1;33m\u001b[0m\u001b[1;33m\u001b[0m\u001b[0m\n",
      "\u001b[0;32mC:\\Users\\echew\\AppData\\Local\\Continuum\\Anaconda3\\lib\\site-packages\\plotly\\api\\v1\\clientresp.py\u001b[0m in \u001b[0;36mclientresp\u001b[0;34m(data, **kwargs)\u001b[0m\n\u001b[1;32m     33\u001b[0m \u001b[1;33m\u001b[0m\u001b[0m\n\u001b[1;32m     34\u001b[0m     \u001b[0murl\u001b[0m \u001b[1;33m=\u001b[0m \u001b[1;34m'{plotly_domain}/clientresp'\u001b[0m\u001b[1;33m.\u001b[0m\u001b[0mformat\u001b[0m\u001b[1;33m(\u001b[0m\u001b[1;33m**\u001b[0m\u001b[0mcfg\u001b[0m\u001b[1;33m)\u001b[0m\u001b[1;33m\u001b[0m\u001b[0m\n\u001b[0;32m---> 35\u001b[0;31m     \u001b[0mresponse\u001b[0m \u001b[1;33m=\u001b[0m \u001b[0mrequest\u001b[0m\u001b[1;33m(\u001b[0m\u001b[1;34m'post'\u001b[0m\u001b[1;33m,\u001b[0m \u001b[0murl\u001b[0m\u001b[1;33m,\u001b[0m \u001b[0mdata\u001b[0m\u001b[1;33m=\u001b[0m\u001b[0mpayload\u001b[0m\u001b[1;33m)\u001b[0m\u001b[1;33m\u001b[0m\u001b[0m\n\u001b[0m\u001b[1;32m     36\u001b[0m \u001b[1;33m\u001b[0m\u001b[0m\n\u001b[1;32m     37\u001b[0m     \u001b[1;31m# Old functionality, just keeping it around.\u001b[0m\u001b[1;33m\u001b[0m\u001b[1;33m\u001b[0m\u001b[0m\n",
      "\u001b[0;32mC:\\Users\\echew\\AppData\\Local\\Continuum\\Anaconda3\\lib\\site-packages\\plotly\\api\\v1\\utils.py\u001b[0m in \u001b[0;36mrequest\u001b[0;34m(method, url, **kwargs)\u001b[0m\n\u001b[1;32m     84\u001b[0m         \u001b[0mcontent\u001b[0m \u001b[1;33m=\u001b[0m \u001b[0mresponse\u001b[0m\u001b[1;33m.\u001b[0m\u001b[0mcontent\u001b[0m \u001b[1;32mif\u001b[0m \u001b[0mresponse\u001b[0m \u001b[1;32melse\u001b[0m \u001b[1;34m'No content'\u001b[0m\u001b[1;33m\u001b[0m\u001b[0m\n\u001b[1;32m     85\u001b[0m         \u001b[1;32mraise\u001b[0m \u001b[0mexceptions\u001b[0m\u001b[1;33m.\u001b[0m\u001b[0mPlotlyRequestError\u001b[0m\u001b[1;33m(\u001b[0m\u001b[0mmessage\u001b[0m\u001b[1;33m,\u001b[0m \u001b[0mstatus_code\u001b[0m\u001b[1;33m,\u001b[0m \u001b[0mcontent\u001b[0m\u001b[1;33m)\u001b[0m\u001b[1;33m\u001b[0m\u001b[0m\n\u001b[0;32m---> 86\u001b[0;31m     \u001b[0mvalidate_response\u001b[0m\u001b[1;33m(\u001b[0m\u001b[0mresponse\u001b[0m\u001b[1;33m)\u001b[0m\u001b[1;33m\u001b[0m\u001b[0m\n\u001b[0m\u001b[1;32m     87\u001b[0m     \u001b[1;32mreturn\u001b[0m \u001b[0mresponse\u001b[0m\u001b[1;33m\u001b[0m\u001b[0m\n",
      "\u001b[0;32mC:\\Users\\echew\\AppData\\Local\\Continuum\\Anaconda3\\lib\\site-packages\\plotly\\api\\v1\\utils.py\u001b[0m in \u001b[0;36mvalidate_response\u001b[0;34m(response)\u001b[0m\n\u001b[1;32m     36\u001b[0m         \u001b[0mmessage\u001b[0m \u001b[1;33m=\u001b[0m \u001b[0mcontent\u001b[0m \u001b[1;32mif\u001b[0m \u001b[0mcontent\u001b[0m \u001b[1;32melse\u001b[0m \u001b[1;34m'No Content'\u001b[0m\u001b[1;33m\u001b[0m\u001b[0m\n\u001b[1;32m     37\u001b[0m \u001b[1;33m\u001b[0m\u001b[0m\n\u001b[0;32m---> 38\u001b[0;31m     \u001b[1;32mraise\u001b[0m \u001b[0mexceptions\u001b[0m\u001b[1;33m.\u001b[0m\u001b[0mPlotlyRequestError\u001b[0m\u001b[1;33m(\u001b[0m\u001b[0mmessage\u001b[0m\u001b[1;33m,\u001b[0m \u001b[0mstatus_code\u001b[0m\u001b[1;33m,\u001b[0m \u001b[0mcontent\u001b[0m\u001b[1;33m)\u001b[0m\u001b[1;33m\u001b[0m\u001b[0m\n\u001b[0m\u001b[1;32m     39\u001b[0m \u001b[1;33m\u001b[0m\u001b[0m\n\u001b[1;32m     40\u001b[0m \u001b[1;33m\u001b[0m\u001b[0m\n",
      "\u001b[0;31mPlotlyRequestError\u001b[0m: Hey there! You've hit one of our API request limits. \n\nTo get unlimited API calls(10,000/day), please upgrade to a paid plan. \n\nUPGRADE HERE: https://goo.gl/i7glmM \n\nThanks for using Plotly! Happy Plotting!"
     ]
    }
   ],
   "source": [
    "fig = {\n",
    "    'data': [\n",
    "                {\n",
    "            'labels': ['Attractive','Sincere','Intelligent','Fun', 'Ambitious', 'Shared Interests'],\n",
    "            'values': [25, 20, 25, 20, 10, 0],\n",
    "            'type': 'pie',\n",
    "            'marker': {'colors': ['#E53935', '#EF5350', '#BDC3C7', '#EF9A9A', '#FFAB91', '#F44336']},\n",
    "                    'textinfo': \"label\",\n",
    "            'textposition': \"outside\",\n",
    "           \n",
    "                \n",
    "                }],\n",
    "    'layout': {'title': 'Tech',\n",
    "              'showlegend': False} \n",
    "   \n",
    "}\n",
    "             \n",
    "       \n",
    "\n",
    "py.iplot(fig)"
   ]
  },
  {
   "cell_type": "code",
   "execution_count": 40,
   "metadata": {
    "collapsed": false
   },
   "outputs": [
    {
     "name": "stdout",
     "output_type": "stream",
     "text": [
      "[60, 15, 0, 15, 0, 10]\n"
     ]
    }
   ],
   "source": [
    "print(proathlete)"
   ]
  },
  {
   "cell_type": "code",
   "execution_count": null,
   "metadata": {
    "collapsed": true
   },
   "outputs": [],
   "source": []
  }
 ],
 "metadata": {
  "kernelspec": {
   "display_name": "Python 3",
   "language": "python",
   "name": "python3"
  },
  "language_info": {
   "codemirror_mode": {
    "name": "ipython",
    "version": 3
   },
   "file_extension": ".py",
   "mimetype": "text/x-python",
   "name": "python",
   "nbconvert_exporter": "python",
   "pygments_lexer": "ipython3",
   "version": "3.6.0"
  }
 },
 "nbformat": 4,
 "nbformat_minor": 2
}
